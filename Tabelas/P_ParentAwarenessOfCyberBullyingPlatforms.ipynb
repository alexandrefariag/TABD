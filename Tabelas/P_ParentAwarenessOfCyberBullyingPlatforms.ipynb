{
 "cells": [
  {
   "cell_type": "code",
   "execution_count": 6,
   "id": "governmental-sullivan",
   "metadata": {},
   "outputs": [],
   "source": [
    "from pyspark.sql import SparkSession\n",
    "from pyspark.sql import Row\n",
    "\n",
    "# warehouse_location points to the default location for managed databases and tables\n",
    "warehouse_location = 'hdfs://hdfs-nn:9000/warehouse'\n",
    "\n",
    "spark = SparkSession \\\n",
    "    .builder \\\n",
    "    .appName(\"Python Spark SQL Hive integration example\") \\\n",
    "    .config(\"spark.sql.warehouse.dir\", warehouse_location) \\\n",
    "    .config(\"hive.metastore.uris\", \"thrift://hive-metastore:9083\") \\\n",
    "    .enableHiveSupport() \\\n",
    "    .getOrCreate()"
   ]
  },
  {
   "cell_type": "code",
   "execution_count": 7,
   "id": "massive-throw",
   "metadata": {
    "scrolled": true
   },
   "outputs": [
    {
     "name": "stdout",
     "output_type": "stream",
     "text": [
      "+--------+--------------------+-----------+\n",
      "|database|           tableName|isTemporary|\n",
      "+--------+--------------------+-----------+\n",
      "| tabd_db|           countries|      false|\n",
      "| tabd_db|countryinternetusers|      false|\n",
      "| tabd_db|dailyinternetusag...|      false|\n",
      "| tabd_db|    internetjoindate|      false|\n",
      "| tabd_db|listleastdevelope...|      false|\n",
      "| tabd_db|listofcountriesby...|      false|\n",
      "| tabd_db|parentawarenessof...|      false|\n",
      "+--------+--------------------+-----------+\n",
      "\n"
     ]
    }
   ],
   "source": [
    "spark.sql(\n",
    "    \"\"\"\n",
    "    SHOW TABLES FROM tabd_db\n",
    "    \"\"\"\n",
    ").show()"
   ]
  },
  {
   "cell_type": "code",
   "execution_count": 5,
   "id": "ceramic-messenger",
   "metadata": {},
   "outputs": [
    {
     "data": {
      "text/plain": [
       "DataFrame[]"
      ]
     },
     "execution_count": 5,
     "metadata": {},
     "output_type": "execute_result"
    }
   ],
   "source": [
    "spark.sql(\n",
    "    \"\"\"\n",
    "    DROP TABLE IF EXISTS tabd_db.P_ParentAwarenessOfCyberBullyingPlatforms\n",
    "    \"\"\"\n",
    ")\n",
    "\n",
    "spark.sql(\n",
    "    \"\"\"\n",
    "    CREATE EXTERNAL TABLE tabd_db.P_ParentAwarenessOfCyberBullyingPlatforms (\n",
    "        region VARCHAR(45),\n",
    "        platform VARCHAR(45),\n",
    "        percentage_cyberbullying INT\n",
    "    )\n",
    "    STORED AS PARQUET\n",
    "    LOCATION 'hdfs://hdfs-nn:9000/warehouse/tabd.db/P_ParentAwarenessOfCyberBullyingPlatforms/'\n",
    "    \"\"\"\n",
    ")\n",
    "\n",
    "# tblproperties('skip.header.line.count'='1')\n",
    "# can be used for csvs with header\n",
    "# but spark sql cannot understand that at the moment, while reading the data using sql queries\n",
    "# so just when creating hive tables backed up by csvs, avoid headers\n",
    "# in the project we wont use hive text tables, so all good."
   ]
  },
  {
   "cell_type": "code",
   "execution_count": 5,
   "id": "innovative-commonwealth",
   "metadata": {},
   "outputs": [
    {
     "name": "stdout",
     "output_type": "stream",
     "text": [
      "+--------+--------------------+-----------+\n",
      "|database|           tableName|isTemporary|\n",
      "+--------+--------------------+-----------+\n",
      "| tabd_db|countryinternetusers|      false|\n",
      "| tabd_db|parentawarenessof...|      false|\n",
      "+--------+--------------------+-----------+\n",
      "\n"
     ]
    }
   ],
   "source": [
    "spark.sql(\n",
    "    \"\"\"\n",
    "    SHOW TABLES FROM tabd_db\n",
    "    \"\"\"\n",
    ").show()"
   ]
  },
  {
   "cell_type": "code",
   "execution_count": 6,
   "id": "disciplinary-squad",
   "metadata": {},
   "outputs": [],
   "source": [
    "# Let's look into HDFS"
   ]
  },
  {
   "cell_type": "code",
   "execution_count": 7,
   "id": "consistent-checklist",
   "metadata": {},
   "outputs": [
    {
     "name": "stdout",
     "output_type": "stream",
     "text": [
      "+--------+------------------------+------+\n",
      "|platform|percentage_cyberbullying|region|\n",
      "+--------+------------------------+------+\n",
      "+--------+------------------------+------+\n",
      "\n"
     ]
    }
   ],
   "source": [
    "spark.sql(\n",
    "    \"\"\"\n",
    "    SELECT *\n",
    "    FROM tabd_db.P_ParentAwarenessOfCyberBullyingPlatforms\n",
    "    \"\"\"\n",
    ").show()"
   ]
  },
  {
   "cell_type": "code",
   "execution_count": 8,
   "id": "dense-impact",
   "metadata": {
    "scrolled": true
   },
   "outputs": [
    {
     "data": {
      "text/html": [
       "<div>\n",
       "<style scoped>\n",
       "    .dataframe tbody tr th:only-of-type {\n",
       "        vertical-align: middle;\n",
       "    }\n",
       "\n",
       "    .dataframe tbody tr th {\n",
       "        vertical-align: top;\n",
       "    }\n",
       "\n",
       "    .dataframe thead th {\n",
       "        text-align: right;\n",
       "    }\n",
       "</style>\n",
       "<table border=\"1\" class=\"dataframe\">\n",
       "  <thead>\n",
       "    <tr style=\"text-align: right;\">\n",
       "      <th></th>\n",
       "      <th>col_name</th>\n",
       "      <th>data_type</th>\n",
       "      <th>comment</th>\n",
       "    </tr>\n",
       "  </thead>\n",
       "  <tbody>\n",
       "    <tr>\n",
       "      <th>0</th>\n",
       "      <td>platform</td>\n",
       "      <td>varchar(45)</td>\n",
       "      <td>None</td>\n",
       "    </tr>\n",
       "    <tr>\n",
       "      <th>1</th>\n",
       "      <td>percentage_cyberbullying</td>\n",
       "      <td>int</td>\n",
       "      <td>None</td>\n",
       "    </tr>\n",
       "    <tr>\n",
       "      <th>2</th>\n",
       "      <td>region</td>\n",
       "      <td>varchar(45)</td>\n",
       "      <td>None</td>\n",
       "    </tr>\n",
       "    <tr>\n",
       "      <th>3</th>\n",
       "      <td># Partition Information</td>\n",
       "      <td></td>\n",
       "      <td></td>\n",
       "    </tr>\n",
       "    <tr>\n",
       "      <th>4</th>\n",
       "      <td># col_name</td>\n",
       "      <td>data_type</td>\n",
       "      <td>comment</td>\n",
       "    </tr>\n",
       "    <tr>\n",
       "      <th>5</th>\n",
       "      <td>region</td>\n",
       "      <td>varchar(45)</td>\n",
       "      <td>None</td>\n",
       "    </tr>\n",
       "    <tr>\n",
       "      <th>6</th>\n",
       "      <td></td>\n",
       "      <td></td>\n",
       "      <td></td>\n",
       "    </tr>\n",
       "    <tr>\n",
       "      <th>7</th>\n",
       "      <td># Detailed Table Information</td>\n",
       "      <td></td>\n",
       "      <td></td>\n",
       "    </tr>\n",
       "    <tr>\n",
       "      <th>8</th>\n",
       "      <td>Database</td>\n",
       "      <td>tabd_db</td>\n",
       "      <td></td>\n",
       "    </tr>\n",
       "    <tr>\n",
       "      <th>9</th>\n",
       "      <td>Table</td>\n",
       "      <td>parentawarenessofcyberbullyingplatforms</td>\n",
       "      <td></td>\n",
       "    </tr>\n",
       "    <tr>\n",
       "      <th>10</th>\n",
       "      <td>Owner</td>\n",
       "      <td>jovyan</td>\n",
       "      <td></td>\n",
       "    </tr>\n",
       "    <tr>\n",
       "      <th>11</th>\n",
       "      <td>Created Time</td>\n",
       "      <td>Sat May 01 16:31:58 UTC 2021</td>\n",
       "      <td></td>\n",
       "    </tr>\n",
       "    <tr>\n",
       "      <th>12</th>\n",
       "      <td>Last Access</td>\n",
       "      <td>UNKNOWN</td>\n",
       "      <td></td>\n",
       "    </tr>\n",
       "    <tr>\n",
       "      <th>13</th>\n",
       "      <td>Created By</td>\n",
       "      <td>Spark 3.1.1</td>\n",
       "      <td></td>\n",
       "    </tr>\n",
       "    <tr>\n",
       "      <th>14</th>\n",
       "      <td>Type</td>\n",
       "      <td>EXTERNAL</td>\n",
       "      <td></td>\n",
       "    </tr>\n",
       "    <tr>\n",
       "      <th>15</th>\n",
       "      <td>Provider</td>\n",
       "      <td>hive</td>\n",
       "      <td></td>\n",
       "    </tr>\n",
       "    <tr>\n",
       "      <th>16</th>\n",
       "      <td>Table Properties</td>\n",
       "      <td>[transient_lastDdlTime=1619886718]</td>\n",
       "      <td></td>\n",
       "    </tr>\n",
       "    <tr>\n",
       "      <th>17</th>\n",
       "      <td>Location</td>\n",
       "      <td>hdfs://hdfs-nn:9000/warehouse/tabd.db/ParentAw...</td>\n",
       "      <td></td>\n",
       "    </tr>\n",
       "    <tr>\n",
       "      <th>18</th>\n",
       "      <td>Serde Library</td>\n",
       "      <td>org.apache.hadoop.hive.ql.io.parquet.serde.Par...</td>\n",
       "      <td></td>\n",
       "    </tr>\n",
       "    <tr>\n",
       "      <th>19</th>\n",
       "      <td>InputFormat</td>\n",
       "      <td>org.apache.hadoop.hive.ql.io.parquet.MapredPar...</td>\n",
       "      <td></td>\n",
       "    </tr>\n",
       "    <tr>\n",
       "      <th>20</th>\n",
       "      <td>OutputFormat</td>\n",
       "      <td>org.apache.hadoop.hive.ql.io.parquet.MapredPar...</td>\n",
       "      <td></td>\n",
       "    </tr>\n",
       "    <tr>\n",
       "      <th>21</th>\n",
       "      <td>Storage Properties</td>\n",
       "      <td>[serialization.format=1]</td>\n",
       "      <td></td>\n",
       "    </tr>\n",
       "    <tr>\n",
       "      <th>22</th>\n",
       "      <td>Partition Provider</td>\n",
       "      <td>Catalog</td>\n",
       "      <td></td>\n",
       "    </tr>\n",
       "  </tbody>\n",
       "</table>\n",
       "</div>"
      ],
      "text/plain": [
       "                        col_name  \\\n",
       "0                       platform   \n",
       "1       percentage_cyberbullying   \n",
       "2                         region   \n",
       "3        # Partition Information   \n",
       "4                     # col_name   \n",
       "5                         region   \n",
       "6                                  \n",
       "7   # Detailed Table Information   \n",
       "8                       Database   \n",
       "9                          Table   \n",
       "10                         Owner   \n",
       "11                  Created Time   \n",
       "12                   Last Access   \n",
       "13                    Created By   \n",
       "14                          Type   \n",
       "15                      Provider   \n",
       "16              Table Properties   \n",
       "17                      Location   \n",
       "18                 Serde Library   \n",
       "19                   InputFormat   \n",
       "20                  OutputFormat   \n",
       "21            Storage Properties   \n",
       "22            Partition Provider   \n",
       "\n",
       "                                            data_type  comment  \n",
       "0                                         varchar(45)     None  \n",
       "1                                                 int     None  \n",
       "2                                         varchar(45)     None  \n",
       "3                                                               \n",
       "4                                           data_type  comment  \n",
       "5                                         varchar(45)     None  \n",
       "6                                                               \n",
       "7                                                               \n",
       "8                                             tabd_db           \n",
       "9             parentawarenessofcyberbullyingplatforms           \n",
       "10                                             jovyan           \n",
       "11                       Sat May 01 16:31:58 UTC 2021           \n",
       "12                                            UNKNOWN           \n",
       "13                                        Spark 3.1.1           \n",
       "14                                           EXTERNAL           \n",
       "15                                               hive           \n",
       "16                 [transient_lastDdlTime=1619886718]           \n",
       "17  hdfs://hdfs-nn:9000/warehouse/tabd.db/ParentAw...           \n",
       "18  org.apache.hadoop.hive.ql.io.parquet.serde.Par...           \n",
       "19  org.apache.hadoop.hive.ql.io.parquet.MapredPar...           \n",
       "20  org.apache.hadoop.hive.ql.io.parquet.MapredPar...           \n",
       "21                           [serialization.format=1]           \n",
       "22                                            Catalog           "
      ]
     },
     "execution_count": 8,
     "metadata": {},
     "output_type": "execute_result"
    }
   ],
   "source": [
    "spark.sql(\n",
    "    \"\"\"\n",
    "    DESCRIBE FORMATTED tabd_db.P_ParentAwarenessOfCyberBullyingPlatforms\n",
    "    \"\"\"\n",
    ").toPandas()"
   ]
  },
  {
   "cell_type": "code",
   "execution_count": 9,
   "id": "endless-field",
   "metadata": {},
   "outputs": [],
   "source": [
    "# Let's put the files into HDFS"
   ]
  },
  {
   "cell_type": "code",
   "execution_count": 10,
   "id": "standard-institute",
   "metadata": {},
   "outputs": [
    {
     "data": {
      "text/html": [
       "<div>\n",
       "<style scoped>\n",
       "    .dataframe tbody tr th:only-of-type {\n",
       "        vertical-align: middle;\n",
       "    }\n",
       "\n",
       "    .dataframe tbody tr th {\n",
       "        vertical-align: top;\n",
       "    }\n",
       "\n",
       "    .dataframe thead th {\n",
       "        text-align: right;\n",
       "    }\n",
       "</style>\n",
       "<table border=\"1\" class=\"dataframe\">\n",
       "  <thead>\n",
       "    <tr style=\"text-align: right;\">\n",
       "      <th></th>\n",
       "      <th>platform</th>\n",
       "      <th>percentage_cyberbullying</th>\n",
       "      <th>region</th>\n",
       "    </tr>\n",
       "  </thead>\n",
       "  <tbody>\n",
       "  </tbody>\n",
       "</table>\n",
       "</div>"
      ],
      "text/plain": [
       "Empty DataFrame\n",
       "Columns: [platform, percentage_cyberbullying, region]\n",
       "Index: []"
      ]
     },
     "execution_count": 10,
     "metadata": {},
     "output_type": "execute_result"
    }
   ],
   "source": [
    "spark.sql(\n",
    "    \"\"\"\n",
    "    SELECT *\n",
    "    FROM tabd_db.P_ParentAwarenessOfCyberBullyingPlatforms\n",
    "    \"\"\"\n",
    ").toPandas()"
   ]
  },
  {
   "cell_type": "code",
   "execution_count": 11,
   "id": "close-structure",
   "metadata": {},
   "outputs": [
    {
     "name": "stdout",
     "output_type": "stream",
     "text": [
      "+--------+------------------------+------+\n",
      "|platform|percentage_cyberbullying|region|\n",
      "+--------+------------------------+------+\n",
      "+--------+------------------------+------+\n",
      "\n"
     ]
    }
   ],
   "source": [
    "# recover partitions is needed so that the Hive Metastore (Catalog)\n",
    "# is updated. Otherwise Hive and the querying engines do not know\n",
    "# that there are new parittions in the partitioned table.\n",
    "spark.catalog.recoverPartitions(\"tabd_db.P_ParentAwarenessOfCyberBullyingPlatforms\")\n",
    "\n",
    "spark.sql(\n",
    "    \"\"\"\n",
    "    SELECT *\n",
    "    FROM tabd_db.P_ParentAwarenessOfCyberBullyingPlatforms\n",
    "    \"\"\"\n",
    ").show()"
   ]
  },
  {
   "cell_type": "code",
   "execution_count": 12,
   "id": "polished-tattoo",
   "metadata": {},
   "outputs": [],
   "source": [
    "spark.stop()"
   ]
  },
  {
   "cell_type": "code",
   "execution_count": null,
   "id": "restricted-virgin",
   "metadata": {},
   "outputs": [],
   "source": []
  }
 ],
 "metadata": {
  "kernelspec": {
   "display_name": "Python 3",
   "language": "python",
   "name": "python3"
  },
  "language_info": {
   "codemirror_mode": {
    "name": "ipython",
    "version": 3
   },
   "file_extension": ".py",
   "mimetype": "text/x-python",
   "name": "python",
   "nbconvert_exporter": "python",
   "pygments_lexer": "ipython3",
   "version": "3.8.8"
  }
 },
 "nbformat": 4,
 "nbformat_minor": 5
}
