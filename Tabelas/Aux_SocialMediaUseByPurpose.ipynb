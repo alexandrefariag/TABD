{
 "cells": [
  {
   "cell_type": "code",
   "execution_count": 34,
   "id": "governmental-sullivan",
   "metadata": {},
   "outputs": [],
   "source": [
    "from pyspark.sql import SparkSession\n",
    "from pyspark.sql import Row\n",
    "\n",
    "# warehouse_location points to the default location for managed databases and tables\n",
    "warehouse_location = 'hdfs://hdfs-nn:9000/warehouse'\n",
    "\n",
    "spark = SparkSession \\\n",
    "    .builder \\\n",
    "    .appName(\"Python Spark SQL Hive integration example\") \\\n",
    "    .config(\"spark.sql.warehouse.dir\", warehouse_location) \\\n",
    "    .config(\"hive.metastore.uris\", \"thrift://hive-metastore:9083\") \\\n",
    "    .enableHiveSupport() \\\n",
    "    .getOrCreate()"
   ]
  },
  {
   "cell_type": "code",
   "execution_count": 35,
   "id": "massive-throw",
   "metadata": {
    "scrolled": true
   },
   "outputs": [
    {
     "name": "stdout",
     "output_type": "stream",
     "text": [
      "+--------+--------------------+-----------+\n",
      "|database|           tableName|isTemporary|\n",
      "+--------+--------------------+-----------+\n",
      "| tabd_db|adultinternetusag...|      false|\n",
      "| tabd_db|distributiongloba...|      false|\n",
      "| tabd_db|globalinternetusa...|      false|\n",
      "| tabd_db|globalmobilepenet...|      false|\n",
      "| tabd_db|globalsocialnetworks|      false|\n",
      "| tabd_db|individualsactivi...|      false|\n",
      "| tabd_db|individualsactivi...|      false|\n",
      "| tabd_db| internetactivities1|      false|\n",
      "| tabd_db| internetactivities2|      false|\n",
      "| tabd_db|       internetusage|      false|\n",
      "| tabd_db|internetusagefreq...|      false|\n",
      "| tabd_db|numberofworldwide...|      false|\n",
      "| tabd_db|numberofworldwide...|      false|\n",
      "| tabd_db|p_dailyinternetus...|      false|\n",
      "| tabd_db|p_enterprisesocia...|      false|\n",
      "| tabd_db|p_globalsocialmed...|      false|\n",
      "| tabd_db|p_globalsocialnet...|      false|\n",
      "| tabd_db|p_individualsacti...|      false|\n",
      "| tabd_db|     p_internetusage|      false|\n",
      "| tabd_db|parentawarenessof...|      false|\n",
      "+--------+--------------------+-----------+\n",
      "only showing top 20 rows\n",
      "\n"
     ]
    }
   ],
   "source": [
    "spark.sql(\n",
    "    \"\"\"\n",
    "    SHOW TABLES FROM tabd_db\n",
    "    \"\"\"\n",
    ").show()"
   ]
  },
  {
   "cell_type": "code",
   "execution_count": 36,
   "id": "ceramic-messenger",
   "metadata": {},
   "outputs": [
    {
     "data": {
      "text/plain": [
       "DataFrame[]"
      ]
     },
     "execution_count": 36,
     "metadata": {},
     "output_type": "execute_result"
    }
   ],
   "source": [
    "spark.sql(\n",
    "    \"\"\"\n",
    "    DROP TABLE IF EXISTS tabd_db.SocialMediaUseByPurpose \n",
    "    \"\"\"\n",
    ")\n",
    "\n",
    "spark.sql(\n",
    "    \"\"\"\n",
    "    CREATE EXTERNAL TABLE tabd_db.SocialMediaUseByPurpose  (\n",
    "        year INT,\n",
    "        region VARCHAR(45),\n",
    "        percentage INT,\n",
    "        advertising_type VARCHAR(45),\n",
    "        purpose VARCHAR(45)\n",
    "    )\n",
    "    STORED AS PARQUET\n",
    "    LOCATION 'hdfs://hdfs-nn:9000/warehouse/tabd.db/SocialMediaUseByPurpose/'\n",
    "    \"\"\"\n",
    ")\n",
    "\n",
    "# tblproperties('skip.header.line.count'='1')\n",
    "# can be used for csvs with header\n",
    "# but spark sql cannot understand that at the moment, while reading the data using sql queries\n",
    "# so just when creating hive tables backed up by csvs, avoid headers\n",
    "# in the project we wont use hive text tables, so all good."
   ]
  },
  {
   "cell_type": "code",
   "execution_count": 37,
   "id": "innovative-commonwealth",
   "metadata": {},
   "outputs": [
    {
     "name": "stdout",
     "output_type": "stream",
     "text": [
      "+--------+--------------------+-----------+\n",
      "|database|           tableName|isTemporary|\n",
      "+--------+--------------------+-----------+\n",
      "| tabd_db|adultinternetusag...|      false|\n",
      "| tabd_db|distributiongloba...|      false|\n",
      "| tabd_db|globalinternetusa...|      false|\n",
      "| tabd_db|globalmobilepenet...|      false|\n",
      "| tabd_db|globalsocialnetworks|      false|\n",
      "| tabd_db|individualsactivi...|      false|\n",
      "| tabd_db|individualsactivi...|      false|\n",
      "| tabd_db| internetactivities1|      false|\n",
      "| tabd_db| internetactivities2|      false|\n",
      "| tabd_db|       internetusage|      false|\n",
      "| tabd_db|internetusagefreq...|      false|\n",
      "| tabd_db|numberofworldwide...|      false|\n",
      "| tabd_db|numberofworldwide...|      false|\n",
      "| tabd_db|p_dailyinternetus...|      false|\n",
      "| tabd_db|p_enterprisesocia...|      false|\n",
      "| tabd_db|p_globalsocialmed...|      false|\n",
      "| tabd_db|p_globalsocialnet...|      false|\n",
      "| tabd_db|p_individualsacti...|      false|\n",
      "| tabd_db|     p_internetusage|      false|\n",
      "| tabd_db|parentawarenessof...|      false|\n",
      "+--------+--------------------+-----------+\n",
      "only showing top 20 rows\n",
      "\n"
     ]
    }
   ],
   "source": [
    "spark.sql(\n",
    "    \"\"\"\n",
    "    SHOW TABLES FROM tabd_db\n",
    "    \"\"\"\n",
    ").show()"
   ]
  },
  {
   "cell_type": "code",
   "execution_count": 38,
   "id": "disciplinary-squad",
   "metadata": {},
   "outputs": [],
   "source": [
    "# Let's look into HDFS"
   ]
  },
  {
   "cell_type": "code",
   "execution_count": 39,
   "id": "consistent-checklist",
   "metadata": {},
   "outputs": [
    {
     "name": "stdout",
     "output_type": "stream",
     "text": [
      "+----+------+----------+----------------+-------+\n",
      "|year|region|percentage|advertising_type|purpose|\n",
      "+----+------+----------+----------------+-------+\n",
      "+----+------+----------+----------------+-------+\n",
      "\n"
     ]
    }
   ],
   "source": [
    "spark.sql(\n",
    "    \"\"\"\n",
    "    SELECT *\n",
    "    FROM tabd_db.SocialMediaUseByPurpose\n",
    "    \"\"\"\n",
    ").show()"
   ]
  },
  {
   "cell_type": "code",
   "execution_count": 40,
   "id": "dense-impact",
   "metadata": {
    "scrolled": true
   },
   "outputs": [
    {
     "data": {
      "text/html": [
       "<div>\n",
       "<style scoped>\n",
       "    .dataframe tbody tr th:only-of-type {\n",
       "        vertical-align: middle;\n",
       "    }\n",
       "\n",
       "    .dataframe tbody tr th {\n",
       "        vertical-align: top;\n",
       "    }\n",
       "\n",
       "    .dataframe thead th {\n",
       "        text-align: right;\n",
       "    }\n",
       "</style>\n",
       "<table border=\"1\" class=\"dataframe\">\n",
       "  <thead>\n",
       "    <tr style=\"text-align: right;\">\n",
       "      <th></th>\n",
       "      <th>col_name</th>\n",
       "      <th>data_type</th>\n",
       "      <th>comment</th>\n",
       "    </tr>\n",
       "  </thead>\n",
       "  <tbody>\n",
       "    <tr>\n",
       "      <th>0</th>\n",
       "      <td>year</td>\n",
       "      <td>int</td>\n",
       "      <td>None</td>\n",
       "    </tr>\n",
       "    <tr>\n",
       "      <th>1</th>\n",
       "      <td>region</td>\n",
       "      <td>varchar(45)</td>\n",
       "      <td>None</td>\n",
       "    </tr>\n",
       "    <tr>\n",
       "      <th>2</th>\n",
       "      <td>percentage</td>\n",
       "      <td>int</td>\n",
       "      <td>None</td>\n",
       "    </tr>\n",
       "    <tr>\n",
       "      <th>3</th>\n",
       "      <td>advertising_type</td>\n",
       "      <td>varchar(45)</td>\n",
       "      <td>None</td>\n",
       "    </tr>\n",
       "    <tr>\n",
       "      <th>4</th>\n",
       "      <td>purpose</td>\n",
       "      <td>varchar(45)</td>\n",
       "      <td>None</td>\n",
       "    </tr>\n",
       "    <tr>\n",
       "      <th>5</th>\n",
       "      <td></td>\n",
       "      <td></td>\n",
       "      <td></td>\n",
       "    </tr>\n",
       "    <tr>\n",
       "      <th>6</th>\n",
       "      <td># Detailed Table Information</td>\n",
       "      <td></td>\n",
       "      <td></td>\n",
       "    </tr>\n",
       "    <tr>\n",
       "      <th>7</th>\n",
       "      <td>Database</td>\n",
       "      <td>tabd_db</td>\n",
       "      <td></td>\n",
       "    </tr>\n",
       "    <tr>\n",
       "      <th>8</th>\n",
       "      <td>Table</td>\n",
       "      <td>socialmediausebypurpose</td>\n",
       "      <td></td>\n",
       "    </tr>\n",
       "    <tr>\n",
       "      <th>9</th>\n",
       "      <td>Owner</td>\n",
       "      <td>jovyan</td>\n",
       "      <td></td>\n",
       "    </tr>\n",
       "    <tr>\n",
       "      <th>10</th>\n",
       "      <td>Created Time</td>\n",
       "      <td>Tue Jun 08 22:16:02 UTC 2021</td>\n",
       "      <td></td>\n",
       "    </tr>\n",
       "    <tr>\n",
       "      <th>11</th>\n",
       "      <td>Last Access</td>\n",
       "      <td>UNKNOWN</td>\n",
       "      <td></td>\n",
       "    </tr>\n",
       "    <tr>\n",
       "      <th>12</th>\n",
       "      <td>Created By</td>\n",
       "      <td>Spark 3.1.1</td>\n",
       "      <td></td>\n",
       "    </tr>\n",
       "    <tr>\n",
       "      <th>13</th>\n",
       "      <td>Type</td>\n",
       "      <td>EXTERNAL</td>\n",
       "      <td></td>\n",
       "    </tr>\n",
       "    <tr>\n",
       "      <th>14</th>\n",
       "      <td>Provider</td>\n",
       "      <td>hive</td>\n",
       "      <td></td>\n",
       "    </tr>\n",
       "    <tr>\n",
       "      <th>15</th>\n",
       "      <td>Table Properties</td>\n",
       "      <td>[transient_lastDdlTime=1623190562]</td>\n",
       "      <td></td>\n",
       "    </tr>\n",
       "    <tr>\n",
       "      <th>16</th>\n",
       "      <td>Location</td>\n",
       "      <td>hdfs://hdfs-nn:9000/warehouse/tabd.db/SocialMe...</td>\n",
       "      <td></td>\n",
       "    </tr>\n",
       "    <tr>\n",
       "      <th>17</th>\n",
       "      <td>Serde Library</td>\n",
       "      <td>org.apache.hadoop.hive.ql.io.parquet.serde.Par...</td>\n",
       "      <td></td>\n",
       "    </tr>\n",
       "    <tr>\n",
       "      <th>18</th>\n",
       "      <td>InputFormat</td>\n",
       "      <td>org.apache.hadoop.hive.ql.io.parquet.MapredPar...</td>\n",
       "      <td></td>\n",
       "    </tr>\n",
       "    <tr>\n",
       "      <th>19</th>\n",
       "      <td>OutputFormat</td>\n",
       "      <td>org.apache.hadoop.hive.ql.io.parquet.MapredPar...</td>\n",
       "      <td></td>\n",
       "    </tr>\n",
       "    <tr>\n",
       "      <th>20</th>\n",
       "      <td>Storage Properties</td>\n",
       "      <td>[serialization.format=1]</td>\n",
       "      <td></td>\n",
       "    </tr>\n",
       "    <tr>\n",
       "      <th>21</th>\n",
       "      <td>Partition Provider</td>\n",
       "      <td>Catalog</td>\n",
       "      <td></td>\n",
       "    </tr>\n",
       "  </tbody>\n",
       "</table>\n",
       "</div>"
      ],
      "text/plain": [
       "                        col_name  \\\n",
       "0                           year   \n",
       "1                         region   \n",
       "2                     percentage   \n",
       "3               advertising_type   \n",
       "4                        purpose   \n",
       "5                                  \n",
       "6   # Detailed Table Information   \n",
       "7                       Database   \n",
       "8                          Table   \n",
       "9                          Owner   \n",
       "10                  Created Time   \n",
       "11                   Last Access   \n",
       "12                    Created By   \n",
       "13                          Type   \n",
       "14                      Provider   \n",
       "15              Table Properties   \n",
       "16                      Location   \n",
       "17                 Serde Library   \n",
       "18                   InputFormat   \n",
       "19                  OutputFormat   \n",
       "20            Storage Properties   \n",
       "21            Partition Provider   \n",
       "\n",
       "                                            data_type comment  \n",
       "0                                                 int    None  \n",
       "1                                         varchar(45)    None  \n",
       "2                                                 int    None  \n",
       "3                                         varchar(45)    None  \n",
       "4                                         varchar(45)    None  \n",
       "5                                                              \n",
       "6                                                              \n",
       "7                                             tabd_db          \n",
       "8                             socialmediausebypurpose          \n",
       "9                                              jovyan          \n",
       "10                       Tue Jun 08 22:16:02 UTC 2021          \n",
       "11                                            UNKNOWN          \n",
       "12                                        Spark 3.1.1          \n",
       "13                                           EXTERNAL          \n",
       "14                                               hive          \n",
       "15                 [transient_lastDdlTime=1623190562]          \n",
       "16  hdfs://hdfs-nn:9000/warehouse/tabd.db/SocialMe...          \n",
       "17  org.apache.hadoop.hive.ql.io.parquet.serde.Par...          \n",
       "18  org.apache.hadoop.hive.ql.io.parquet.MapredPar...          \n",
       "19  org.apache.hadoop.hive.ql.io.parquet.MapredPar...          \n",
       "20                           [serialization.format=1]          \n",
       "21                                            Catalog          "
      ]
     },
     "execution_count": 40,
     "metadata": {},
     "output_type": "execute_result"
    }
   ],
   "source": [
    "spark.sql(\n",
    "    \"\"\"\n",
    "    DESCRIBE FORMATTED tabd_db.SocialMediaUseByPurpose\n",
    "    \"\"\"\n",
    ").toPandas()"
   ]
  },
  {
   "cell_type": "code",
   "execution_count": 41,
   "id": "endless-field",
   "metadata": {},
   "outputs": [],
   "source": [
    "# Let's put the files into HDFS"
   ]
  },
  {
   "cell_type": "code",
   "execution_count": 42,
   "id": "standard-institute",
   "metadata": {},
   "outputs": [
    {
     "data": {
      "text/html": [
       "<div>\n",
       "<style scoped>\n",
       "    .dataframe tbody tr th:only-of-type {\n",
       "        vertical-align: middle;\n",
       "    }\n",
       "\n",
       "    .dataframe tbody tr th {\n",
       "        vertical-align: top;\n",
       "    }\n",
       "\n",
       "    .dataframe thead th {\n",
       "        text-align: right;\n",
       "    }\n",
       "</style>\n",
       "<table border=\"1\" class=\"dataframe\">\n",
       "  <thead>\n",
       "    <tr style=\"text-align: right;\">\n",
       "      <th></th>\n",
       "      <th>year</th>\n",
       "      <th>region</th>\n",
       "      <th>percentage</th>\n",
       "      <th>advertising_type</th>\n",
       "      <th>purpose</th>\n",
       "    </tr>\n",
       "  </thead>\n",
       "  <tbody>\n",
       "  </tbody>\n",
       "</table>\n",
       "</div>"
      ],
      "text/plain": [
       "Empty DataFrame\n",
       "Columns: [year, region, percentage, advertising_type, purpose]\n",
       "Index: []"
      ]
     },
     "execution_count": 42,
     "metadata": {},
     "output_type": "execute_result"
    }
   ],
   "source": [
    "spark.sql(\n",
    "    \"\"\"\n",
    "    SELECT *\n",
    "    FROM tabd_db.SocialMediaUseByPurpose\n",
    "    \"\"\"\n",
    ").toPandas()"
   ]
  },
  {
   "cell_type": "code",
   "execution_count": 43,
   "id": "close-structure",
   "metadata": {},
   "outputs": [
    {
     "name": "stdout",
     "output_type": "stream",
     "text": [
      "+----+------+----------+----------------+-------+\n",
      "|year|region|percentage|advertising_type|purpose|\n",
      "+----+------+----------+----------------+-------+\n",
      "+----+------+----------+----------------+-------+\n",
      "\n"
     ]
    }
   ],
   "source": [
    "# recover partitions is needed so that the Hive Metastore (Catalog)\n",
    "# is updated. Otherwise Hive and the querying engines do not know\n",
    "# that there are new parittions in the partitioned table.\n",
    "\n",
    "spark.sql(\n",
    "    \"\"\"\n",
    "    SELECT *\n",
    "    FROM tabd_db.SocialMediaUseByPurpose\n",
    "    \"\"\"\n",
    ").show()"
   ]
  },
  {
   "cell_type": "code",
   "execution_count": 44,
   "id": "polished-tattoo",
   "metadata": {},
   "outputs": [],
   "source": [
    "spark.stop()"
   ]
  },
  {
   "cell_type": "code",
   "execution_count": null,
   "id": "restricted-virgin",
   "metadata": {},
   "outputs": [],
   "source": []
  },
  {
   "cell_type": "code",
   "execution_count": null,
   "id": "everyday-christian",
   "metadata": {},
   "outputs": [],
   "source": []
  }
 ],
 "metadata": {
  "kernelspec": {
   "display_name": "Python 3",
   "language": "python",
   "name": "python3"
  },
  "language_info": {
   "codemirror_mode": {
    "name": "ipython",
    "version": 3
   },
   "file_extension": ".py",
   "mimetype": "text/x-python",
   "name": "python",
   "nbconvert_exporter": "python",
   "pygments_lexer": "ipython3",
   "version": "3.8.8"
  }
 },
 "nbformat": 4,
 "nbformat_minor": 5
}
